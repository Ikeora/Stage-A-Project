{
 "cells": [
  {
   "cell_type": "code",
   "execution_count": 4,
   "id": "0e1ff212-40a4-496a-b19a-2a322cb4d18e",
   "metadata": {},
   "outputs": [],
   "source": [
    "import numpy as np\n",
    "import pandas as pd"
   ]
  },
  {
   "cell_type": "code",
   "execution_count": 19,
   "id": "879d68fa-05d4-4e15-b5de-102bf0341b92",
   "metadata": {},
   "outputs": [],
   "source": [
    "Data=pd.read_csv('FoodBalanceSheets_E_Africa_NOFLAG.csv',encoding='Latin-1')"
   ]
  },
  {
   "cell_type": "code",
   "execution_count": 22,
   "id": "e0d33459-2e5c-43de-a97d-ddc702f01c9c",
   "metadata": {},
   "outputs": [
    {
     "data": {
      "text/html": [
       "<div>\n",
       "<style scoped>\n",
       "    .dataframe tbody tr th:only-of-type {\n",
       "        vertical-align: middle;\n",
       "    }\n",
       "\n",
       "    .dataframe tbody tr th {\n",
       "        vertical-align: top;\n",
       "    }\n",
       "\n",
       "    .dataframe thead th {\n",
       "        text-align: right;\n",
       "    }\n",
       "</style>\n",
       "<table border=\"1\" class=\"dataframe\">\n",
       "  <thead>\n",
       "    <tr style=\"text-align: right;\">\n",
       "      <th></th>\n",
       "      <th>Area Code</th>\n",
       "      <th>Area</th>\n",
       "      <th>Item Code</th>\n",
       "      <th>Item</th>\n",
       "      <th>Element Code</th>\n",
       "      <th>Element</th>\n",
       "      <th>Unit</th>\n",
       "      <th>Y2014</th>\n",
       "      <th>Y2015</th>\n",
       "      <th>Y2016</th>\n",
       "      <th>Y2017</th>\n",
       "      <th>Y2018</th>\n",
       "    </tr>\n",
       "  </thead>\n",
       "  <tbody>\n",
       "    <tr>\n",
       "      <th>0</th>\n",
       "      <td>4</td>\n",
       "      <td>Algeria</td>\n",
       "      <td>2501</td>\n",
       "      <td>Population</td>\n",
       "      <td>511</td>\n",
       "      <td>Total Population - Both sexes</td>\n",
       "      <td>1000 persons</td>\n",
       "      <td>38924.00</td>\n",
       "      <td>39728.00</td>\n",
       "      <td>40551.00</td>\n",
       "      <td>41389.00</td>\n",
       "      <td>42228.00</td>\n",
       "    </tr>\n",
       "    <tr>\n",
       "      <th>1</th>\n",
       "      <td>4</td>\n",
       "      <td>Algeria</td>\n",
       "      <td>2501</td>\n",
       "      <td>Population</td>\n",
       "      <td>5301</td>\n",
       "      <td>Domestic supply quantity</td>\n",
       "      <td>1000 tonnes</td>\n",
       "      <td>0.00</td>\n",
       "      <td>0.00</td>\n",
       "      <td>0.00</td>\n",
       "      <td>0.00</td>\n",
       "      <td>0.00</td>\n",
       "    </tr>\n",
       "    <tr>\n",
       "      <th>2</th>\n",
       "      <td>4</td>\n",
       "      <td>Algeria</td>\n",
       "      <td>2901</td>\n",
       "      <td>Grand Total</td>\n",
       "      <td>664</td>\n",
       "      <td>Food supply (kcal/capita/day)</td>\n",
       "      <td>kcal/capita/day</td>\n",
       "      <td>3377.00</td>\n",
       "      <td>3379.00</td>\n",
       "      <td>3372.00</td>\n",
       "      <td>3341.00</td>\n",
       "      <td>3322.00</td>\n",
       "    </tr>\n",
       "    <tr>\n",
       "      <th>3</th>\n",
       "      <td>4</td>\n",
       "      <td>Algeria</td>\n",
       "      <td>2901</td>\n",
       "      <td>Grand Total</td>\n",
       "      <td>674</td>\n",
       "      <td>Protein supply quantity (g/capita/day)</td>\n",
       "      <td>g/capita/day</td>\n",
       "      <td>94.90</td>\n",
       "      <td>94.35</td>\n",
       "      <td>94.72</td>\n",
       "      <td>92.82</td>\n",
       "      <td>91.83</td>\n",
       "    </tr>\n",
       "    <tr>\n",
       "      <th>4</th>\n",
       "      <td>4</td>\n",
       "      <td>Algeria</td>\n",
       "      <td>2901</td>\n",
       "      <td>Grand Total</td>\n",
       "      <td>684</td>\n",
       "      <td>Fat supply quantity (g/capita/day)</td>\n",
       "      <td>g/capita/day</td>\n",
       "      <td>80.06</td>\n",
       "      <td>79.36</td>\n",
       "      <td>77.40</td>\n",
       "      <td>80.19</td>\n",
       "      <td>77.28</td>\n",
       "    </tr>\n",
       "  </tbody>\n",
       "</table>\n",
       "</div>"
      ],
      "text/plain": [
       "   Area Code     Area  Item Code         Item  Element Code  \\\n",
       "0          4  Algeria       2501   Population           511   \n",
       "1          4  Algeria       2501   Population          5301   \n",
       "2          4  Algeria       2901  Grand Total           664   \n",
       "3          4  Algeria       2901  Grand Total           674   \n",
       "4          4  Algeria       2901  Grand Total           684   \n",
       "\n",
       "                                  Element             Unit     Y2014  \\\n",
       "0           Total Population - Both sexes     1000 persons  38924.00   \n",
       "1                Domestic supply quantity      1000 tonnes      0.00   \n",
       "2           Food supply (kcal/capita/day)  kcal/capita/day   3377.00   \n",
       "3  Protein supply quantity (g/capita/day)     g/capita/day     94.90   \n",
       "4      Fat supply quantity (g/capita/day)     g/capita/day     80.06   \n",
       "\n",
       "      Y2015     Y2016     Y2017     Y2018  \n",
       "0  39728.00  40551.00  41389.00  42228.00  \n",
       "1      0.00      0.00      0.00      0.00  \n",
       "2   3379.00   3372.00   3341.00   3322.00  \n",
       "3     94.35     94.72     92.82     91.83  \n",
       "4     79.36     77.40     80.19     77.28  "
      ]
     },
     "execution_count": 22,
     "metadata": {},
     "output_type": "execute_result"
    }
   ],
   "source": [
    "Data.head()"
   ]
  },
  {
   "cell_type": "code",
   "execution_count": 135,
   "id": "74620ece-3026-4a4f-bd10-ae55f9f86014",
   "metadata": {},
   "outputs": [
    {
     "data": {
      "text/plain": [
       "(269617.53, 269617.53)"
      ]
     },
     "execution_count": 135,
     "metadata": {},
     "output_type": "execute_result"
    }
   ],
   "source": [
    "## Total sum of animal fat produced in 2014 and 2017\n",
    "Y2014=Data.groupby('Item')['Y2014'].sum()['Animal fats']\n",
    "Y2017=Data.groupby('Item')['Y2017'].sum()['Animal fats']\n",
    "Y2017,Y2017"
   ]
  },
  {
   "cell_type": "code",
   "execution_count": 32,
   "id": "dc9fb981-ebd5-4851-a7ce-124fe40ed889",
   "metadata": {},
   "outputs": [
    {
     "data": {
      "text/plain": [
       "(135.23596649549236, 1603.4039839423301)"
      ]
     },
     "execution_count": 32,
     "metadata": {},
     "output_type": "execute_result"
    }
   ],
   "source": [
    "## mean std and mean for the whole of 2015\n",
    "Data['Y2015'].mean(),Data['Y2015'].std()"
   ]
  },
  {
   "cell_type": "code",
   "execution_count": 38,
   "id": "2b4daad0-e9d8-406f-b1d4-f070df2ca0a8",
   "metadata": {},
   "outputs": [
    {
     "data": {
      "text/plain": [
       "1535"
      ]
     },
     "execution_count": 38,
     "metadata": {},
     "output_type": "execute_result"
    }
   ],
   "source": [
    "## total number of missing data in 2016\n",
    "Data['Y2016'].isnull().sum()"
   ]
  },
  {
   "cell_type": "code",
   "execution_count": 122,
   "id": "02e26030-44b5-439d-908a-9d900c04e85a",
   "metadata": {},
   "outputs": [
    {
     "data": {
      "text/plain": [
       "'Y2014'"
      ]
     },
     "execution_count": 122,
     "metadata": {},
     "output_type": "execute_result"
    }
   ],
   "source": [
    "# Year with highest correlation with 'Element Code'\n",
    "Data[['Element Code','Y2014','Y2015','Y2016','Y2017','Y2018']].corr()['Element Code'][1:].idxmax()"
   ]
  },
  {
   "cell_type": "code",
   "execution_count": 132,
   "id": "3a085672-7da4-476e-88e6-9b700683335e",
   "metadata": {},
   "outputs": [
    {
     "data": {
      "text/plain": [
       "'Y2017'"
      ]
     },
     "execution_count": 132,
     "metadata": {},
     "output_type": "execute_result"
    }
   ],
   "source": [
    "# year of highest import quantity\n",
    "highest_IQ=Data[['Element','Y2014','Y2015','Y2016','Y2017','Y2018']].groupby('Element').sum()\n",
    "highest_IQ.loc['Import Quantity'].idxmax()"
   ]
  },
  {
   "cell_type": "code",
   "execution_count": 134,
   "id": "d2625c8b-9c54-4e20-bb90-b1d087fed4e7",
   "metadata": {},
   "outputs": [
    {
     "data": {
      "text/plain": [
       "1931287.75"
      ]
     },
     "execution_count": 134,
     "metadata": {},
     "output_type": "execute_result"
    }
   ],
   "source": [
    "# the total number of the sum of Production in 2014\n",
    "Data.groupby('Element').sum()['Y2014']['Production']"
   ]
  },
  {
   "cell_type": "code",
   "execution_count": 57,
   "id": "acc09434-93a1-4f8f-abe5-415eece9d2b5",
   "metadata": {},
   "outputs": [
    {
     "data": {
      "text/plain": [
       "Y2018    Domestic supply quantity\n",
       "dtype: object"
      ]
     },
     "execution_count": 57,
     "metadata": {},
     "output_type": "execute_result"
    }
   ],
   "source": [
    "# the element that had the highest sum in 2018\n",
    "Data[['Y2018','Element']].groupby('Element').sum().idxmax()"
   ]
  },
  {
   "cell_type": "code",
   "execution_count": 137,
   "id": "7d73dd61-86f0-4816-a93d-0ef0633d8b5f",
   "metadata": {},
   "outputs": [
    {
     "data": {
      "text/plain": [
       "'Protein supply quantity (g/capita/day)'"
      ]
     },
     "execution_count": 137,
     "metadata": {},
     "output_type": "execute_result"
    }
   ],
   "source": [
    "# The element that had the 3rd lowest sum in 2018\n",
    "Data[['Y2018','Element']].groupby('Element').sum().sort_values(by='Y2018').iloc[2].name"
   ]
  },
  {
   "cell_type": "code",
   "execution_count": 147,
   "id": "7651087a-299f-41dd-8f6c-05424901ce28",
   "metadata": {},
   "outputs": [
    {
     "data": {
      "text/plain": [
       "36238.29"
      ]
     },
     "execution_count": 147,
     "metadata": {},
     "output_type": "execute_result"
    }
   ],
   "source": [
    "#the total Import Quantity in Algeria in 2018\n",
    "Data.groupby(['Area','Element']).sum().loc['Algeria','Import Quantity']['Y2018']"
   ]
  },
  {
   "cell_type": "code",
   "execution_count": 114,
   "id": "ccc0b7b9-93d0-4e7f-98bf-9f03c9c9f010",
   "metadata": {},
   "outputs": [
    {
     "data": {
      "text/plain": [
       "49"
      ]
     },
     "execution_count": 114,
     "metadata": {},
     "output_type": "execute_result"
    }
   ],
   "source": [
    "#the total number of unique countries in the dataset\n",
    "len(Data['Area'].unique())"
   ]
  },
  {
   "cell_type": "code",
   "execution_count": null,
   "id": "e8c4cb47-97d5-4551-84bc-134f96672598",
   "metadata": {},
   "outputs": [],
   "source": []
  }
 ],
 "metadata": {
  "kernelspec": {
   "display_name": "Python 3 (ipykernel)",
   "language": "python",
   "name": "python3"
  },
  "language_info": {
   "codemirror_mode": {
    "name": "ipython",
    "version": 3
   },
   "file_extension": ".py",
   "mimetype": "text/x-python",
   "name": "python",
   "nbconvert_exporter": "python",
   "pygments_lexer": "ipython3",
   "version": "3.7.13"
  }
 },
 "nbformat": 4,
 "nbformat_minor": 5
}
